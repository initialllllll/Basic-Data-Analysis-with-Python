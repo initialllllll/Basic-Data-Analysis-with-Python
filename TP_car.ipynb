{
 "cells": [
  {
   "cell_type": "markdown",
   "id": "a244dfde-353e-4809-a968-2138c05ee9d4",
   "metadata": {},
   "source": [
    "# TP Cars\n",
    "\n",
    "Sources et data : \n",
    "https://www.kaggle.com/datasets/adityadesai13/used-car-dataset-ford-and-mercedes\n",
    "\n",
    "L'objectif de ce TP est de travailler sur un \"Dataset\" un peu plus gros et de regarder un problème de régression et non plus de Calssification."
   ]
  },
  {
   "cell_type": "markdown",
   "id": "bddb0b22-818a-474f-bcfa-a2830a501b97",
   "metadata": {},
   "source": [
    "## Analyser les données\n",
    "\n",
    "Quelles sont les données manquantes quel choix faites vous des différentes variables proposées.\n",
    "\n",
    "Faire un encodage des variables qualitative.\n",
    "\n",
    "Tracer la matrice de corélation de vos variables.\n",
    "\n",
    "Que pouvez vous dire a priori de vos données."
   ]
  },
  {
   "cell_type": "code",
   "execution_count": 1,
   "id": "bdf8cd82-e59b-4dab-9681-4bbd549cf0db",
   "metadata": {
    "tags": []
   },
   "outputs": [],
   "source": [
    "# Import the data\n",
    "import pandas as pd\n",
    "import numpy  as np\n",
    "import matplotlib.pyplot as plt\n",
    "import seaborn as sns\n",
    "import re\n",
    "import time\n",
    "\n",
    "# Load data\n",
    "filenames =[\"audi\",\"bmw\",\"cclass\",\"focus\",\"ford\",\"hyundi\",\"merc\",\"skoda\",\"toyota\",\"unclean cclass\",\"unclean focus\",\"vauxhall\",\"vw\"]\n",
    "\n",
    "data = {}\n",
    "\n",
    "for i in filenames :\n",
    "    data[i] = pd.read_csv(i+\".xls\", header=None)"
   ]
  },
  {
   "cell_type": "code",
   "execution_count": 2,
   "id": "8a7347ba-f32b-4a25-ae06-039661a3862a",
   "metadata": {
    "tags": []
   },
   "outputs": [
    {
     "name": "stdout",
     "output_type": "stream",
     "text": [
      "(15158, 9)\n",
      "        0     1      2             3        4         5    6     7           8\n",
      "0   model  year  price  transmission  mileage  fuelType  tax   mpg  engineSize\n",
      "1   T-Roc  2019  25000     Automatic    13904    Diesel  145  49.6         2.0\n",
      "2   T-Roc  2019  26883     Automatic     4562    Diesel  145  49.6         2.0\n",
      "3   T-Roc  2019  20000        Manual     7414    Diesel  145  50.4         2.0\n",
      "4   T-Roc  2019  33492     Automatic     4825    Petrol  145  32.5         2.0\n"
     ]
    }
   ],
   "source": [
    "vw = data['vw']   #data[vw]\n",
    "print(vw.shape)\n",
    "print(vw.head())"
   ]
  },
  {
   "cell_type": "code",
   "execution_count": 3,
   "id": "dd9e2065-979e-4099-bed0-d3e2c9e76ccc",
   "metadata": {
    "tags": []
   },
   "outputs": [
    {
     "name": "stdout",
     "output_type": "stream",
     "text": [
      "<bound method NDFrame.describe of             0     1      2             3        4         5    6     7  \\\n",
      "0       model  year  price  transmission  mileage  fuelType  tax   mpg   \n",
      "1       T-Roc  2019  25000     Automatic    13904    Diesel  145  49.6   \n",
      "2       T-Roc  2019  26883     Automatic     4562    Diesel  145  49.6   \n",
      "3       T-Roc  2019  20000        Manual     7414    Diesel  145  50.4   \n",
      "4       T-Roc  2019  33492     Automatic     4825    Petrol  145  32.5   \n",
      "...       ...   ...    ...           ...      ...       ...  ...   ...   \n",
      "15153     Eos  2012   5990        Manual    74000    Diesel  125  58.9   \n",
      "15154     Fox  2008   1799        Manual    88102    Petrol  145  46.3   \n",
      "15155     Fox  2009   1590        Manual    70000    Petrol  200  42.0   \n",
      "15156     Fox  2006   1250        Manual    82704    Petrol  150  46.3   \n",
      "15157     Fox  2007   2295        Manual    74000    Petrol  145  46.3   \n",
      "\n",
      "                8  \n",
      "0      engineSize  \n",
      "1             2.0  \n",
      "2             2.0  \n",
      "3             2.0  \n",
      "4             2.0  \n",
      "...           ...  \n",
      "15153         2.0  \n",
      "15154         1.2  \n",
      "15155         1.4  \n",
      "15156         1.2  \n",
      "15157         1.2  \n",
      "\n",
      "[15158 rows x 9 columns]>\n"
     ]
    }
   ],
   "source": [
    "print(vw.describe)"
   ]
  },
  {
   "cell_type": "code",
   "execution_count": 4,
   "id": "5d6d6556-0d89-4f3d-ac71-18d68272beec",
   "metadata": {
    "tags": []
   },
   "outputs": [
    {
     "data": {
      "text/plain": [
       "<bound method DataFrame.info of             0     1      2             3        4         5    6     7  \\\n",
       "0       model  year  price  transmission  mileage  fuelType  tax   mpg   \n",
       "1       T-Roc  2019  25000     Automatic    13904    Diesel  145  49.6   \n",
       "2       T-Roc  2019  26883     Automatic     4562    Diesel  145  49.6   \n",
       "3       T-Roc  2019  20000        Manual     7414    Diesel  145  50.4   \n",
       "4       T-Roc  2019  33492     Automatic     4825    Petrol  145  32.5   \n",
       "...       ...   ...    ...           ...      ...       ...  ...   ...   \n",
       "15153     Eos  2012   5990        Manual    74000    Diesel  125  58.9   \n",
       "15154     Fox  2008   1799        Manual    88102    Petrol  145  46.3   \n",
       "15155     Fox  2009   1590        Manual    70000    Petrol  200  42.0   \n",
       "15156     Fox  2006   1250        Manual    82704    Petrol  150  46.3   \n",
       "15157     Fox  2007   2295        Manual    74000    Petrol  145  46.3   \n",
       "\n",
       "                8  \n",
       "0      engineSize  \n",
       "1             2.0  \n",
       "2             2.0  \n",
       "3             2.0  \n",
       "4             2.0  \n",
       "...           ...  \n",
       "15153         2.0  \n",
       "15154         1.2  \n",
       "15155         1.4  \n",
       "15156         1.2  \n",
       "15157         1.2  \n",
       "\n",
       "[15158 rows x 9 columns]>"
      ]
     },
     "execution_count": 4,
     "metadata": {},
     "output_type": "execute_result"
    }
   ],
   "source": [
    "vw.info"
   ]
  },
  {
   "cell_type": "code",
   "execution_count": 5,
   "id": "00fcb3e6-e163-4ec5-b836-fd92c0b55847",
   "metadata": {
    "tags": []
   },
   "outputs": [
    {
     "data": {
      "text/plain": [
       "Index(['model', 'year', 'price', 'transmission', 'mileage', 'fuelType', 'tax',\n",
       "       'mpg', 'engineSize'],\n",
       "      dtype='object', name=0)"
      ]
     },
     "execution_count": 5,
     "metadata": {},
     "output_type": "execute_result"
    }
   ],
   "source": [
    "# vw[1:]  \n",
    "# vw[:1]\n",
    "vw.columns = vw.iloc[0]\n",
    "vw.columns"
   ]
  },
  {
   "cell_type": "code",
   "execution_count": 6,
   "id": "24f57d09-bd46-405e-ad6c-98684bdfc79f",
   "metadata": {
    "tags": []
   },
   "outputs": [
    {
     "data": {
      "text/plain": [
       "{'unique_values': {'model': array(['model', ' T-Roc', ' Golf', ' Passat', ' T-Cross', ' Polo',\n",
       "         ' Tiguan', ' Sharan', ' Up', ' Scirocco', ' Beetle',\n",
       "         ' Caddy Maxi Life', ' Caravelle', ' Touareg', ' Arteon', ' Touran',\n",
       "         ' Golf SV', ' Amarok', ' Tiguan Allspace', ' Shuttle', ' Jetta',\n",
       "         ' CC', ' California', ' Caddy Life', ' Caddy', ' Caddy Maxi',\n",
       "         ' Eos', ' Fox'], dtype=object),\n",
       "  'year': array(['year', '2019', '2020', '2018', '2017', '2015', '2016', '2013',\n",
       "         '2014', '2009', '2010', '2004', '2003', '2012', '2011', '2008',\n",
       "         '2000', '2006', '2002', '2005', '2007', '2001'], dtype=object),\n",
       "  'price': array(['price', '25000', '26883', ..., '9949', '1590', '1250'],\n",
       "        dtype=object),\n",
       "  'transmission': array(['transmission', 'Automatic', 'Manual', 'Semi-Auto'], dtype=object),\n",
       "  'mileage': array(['mileage', '13904', '4562', ..., '92640', '88102', '82704'],\n",
       "        dtype=object)}}"
      ]
     },
     "execution_count": 6,
     "metadata": {},
     "output_type": "execute_result"
    }
   ],
   "source": [
    "unique_values = {}\n",
    "for col in vw.columns:\n",
    "    unique_values[col] = vw[col].unique()\n",
    "\n",
    "result5 = {\"unique_values\": {k: unique_values[k] for k in list(unique_values)[:5]}}    \n",
    "result5"
   ]
  },
  {
   "cell_type": "markdown",
   "id": "829fe872-9941-49c3-b300-5eeb46095f7c",
   "metadata": {},
   "source": [
    "#  Les données manquantes"
   ]
  },
  {
   "cell_type": "code",
   "execution_count": 7,
   "id": "160ebe22-17c9-4097-8f49-79c86b3f05a9",
   "metadata": {
    "tags": []
   },
   "outputs": [
    {
     "name": "stdout",
     "output_type": "stream",
     "text": [
      "missing_data: 0\n",
      "model           0\n",
      "year            0\n",
      "price           0\n",
      "transmission    0\n",
      "mileage         0\n",
      "fuelType        0\n",
      "tax             0\n",
      "mpg             0\n",
      "engineSize      0\n",
      "dtype: int64\n"
     ]
    }
   ],
   "source": [
    "# Retourner les données manquantes et les valeurs uniques pour les premières colonnes pour examiner\n",
    "missing_data = vw.isna().sum()\n",
    "print(f\"missing_data: {missing_data}\")"
   ]
  },
  {
   "cell_type": "code",
   "execution_count": 8,
   "id": "82c24419-c2d1-4378-afb4-7a8f15b0183e",
   "metadata": {
    "tags": []
   },
   "outputs": [],
   "source": [
    "# vw[\"model\"].replace(np.nan,np.nanmedian(vw[\"model\"]),inplace=True)\n",
    "\n",
    "# Enlever  toutes les données manquantes\n",
    "vw.columns = vw.iloc[0]  # Set the first row as column headers\n",
    "vw = vw[1:].copy() # Remove the first row from the dataframe\n",
    "\n",
    "# Drop columns with any missing data\n",
    "vw = vw.dropna(axis=1, inplace=True)"
   ]
  },
  {
   "cell_type": "markdown",
   "id": "5ac74e6a-28b4-4112-9eaf-e675f52366b3",
   "metadata": {},
   "source": [
    "# Encodage et corrélation"
   ]
  },
  {
   "cell_type": "code",
   "execution_count": 9,
   "id": "a8f656e2-6107-4c14-a923-04fd63099b69",
   "metadata": {
    "tags": []
   },
   "outputs": [
    {
     "data": {
      "text/plain": [
       "0\n",
       "price           1.000000\n",
       "model           0.169099\n",
       "mileage         0.105879\n",
       "engineSize      0.046433\n",
       "fuelType        0.003821\n",
       "transmission   -0.022997\n",
       "tax            -0.026918\n",
       "year           -0.090350\n",
       "mpg            -0.164560\n",
       "Name: price, dtype: float64"
      ]
     },
     "execution_count": 9,
     "metadata": {},
     "output_type": "execute_result"
    }
   ],
   "source": [
    "from sklearn.preprocessing import LabelEncoder\n",
    "vw = data['vw']\n",
    "\n",
    "# Conversion des données en DataFrame pour une manipulation plus facile\n",
    "df = pd.DataFrame(vw)\n",
    "\n",
    "# Supposer que la première ligne contient les noms des colonnes\n",
    "df.columns = df.iloc[0]\n",
    "df = df[1:]\n",
    "\n",
    "# LabelEncoder pour transformer les variables catégorielles\n",
    "encoder = LabelEncoder()\n",
    "for column in df.columns:\n",
    "    if df[column].dtype == 'object':  # Encoder seulement les colonnes de type objet (catégorielles)\n",
    "        df[column] = encoder.fit_transform(df[column])\n",
    "\n",
    "# Convertir les colonnes en numérique\n",
    "df = df.apply(pd.to_numeric)\n",
    "\n",
    "# Calcul de la corrélation\n",
    "correlation = df.corr()\n",
    "\n",
    "# Afficher la corrélation avec la colonne 'price' comme exemple de variable cible\n",
    "correlation_price = correlation['price'].sort_values(ascending=False)\n",
    "\n",
    "correlation_price"
   ]
  },
  {
   "cell_type": "code",
   "execution_count": 10,
   "id": "071da6a1-55ed-4cbc-960d-b18dcf37a334",
   "metadata": {
    "tags": []
   },
   "outputs": [
    {
     "data": {
      "text/plain": [
       "<Axes: xlabel='0', ylabel='0'>"
      ]
     },
     "execution_count": 10,
     "metadata": {},
     "output_type": "execute_result"
    },
    {
     "data": {
      "image/png": "[encoded data removed]",
      "text/plain": [
       "<Figure size 1440x576 with 2 Axes>"
      ]
     },
     "metadata": {
      "needs_background": "light"
     },
     "output_type": "display_data"
    }
   ],
   "source": [
    "import matplotlib.pyplot as plt\n",
    "import seaborn as sns\n",
    "\n",
    "corr=df.corr(method=\"pearson\")\n",
    "plt.figure(figsize=(20,8))\n",
    "sns.heatmap(corr,annot= True)"
   ]
  },
  {
   "cell_type": "code",
   "execution_count": 11,
   "id": "3dac9beb-e6c5-4240-a3f0-b41b517f0854",
   "metadata": {
    "tags": []
   },
   "outputs": [
    {
     "data": {
      "text/html": [
       "<div>\n",
       "<style scoped>\n",
       "    .dataframe tbody tr th:only-of-type {\n",
       "        vertical-align: middle;\n",
       "    }\n",
       "\n",
       "    .dataframe tbody tr th {\n",
       "        vertical-align: top;\n",
       "    }\n",
       "\n",
       "    .dataframe thead th {\n",
       "        text-align: right;\n",
       "    }\n",
       "</style>\n",
       "<table border=\"1\" class=\"dataframe\">\n",
       "  <thead>\n",
       "    <tr style=\"text-align: right;\">\n",
       "      <th></th>\n",
       "      <th>model</th>\n",
       "      <th>year</th>\n",
       "      <th>price</th>\n",
       "      <th>transmission</th>\n",
       "      <th>mileage</th>\n",
       "      <th>fuelType</th>\n",
       "      <th>tax</th>\n",
       "      <th>mpg</th>\n",
       "      <th>engineSize</th>\n",
       "    </tr>\n",
       "    <tr>\n",
       "      <th>0</th>\n",
       "      <th></th>\n",
       "      <th></th>\n",
       "      <th></th>\n",
       "      <th></th>\n",
       "      <th></th>\n",
       "      <th></th>\n",
       "      <th></th>\n",
       "      <th></th>\n",
       "      <th></th>\n",
       "    </tr>\n",
       "  </thead>\n",
       "  <tbody>\n",
       "    <tr>\n",
       "      <th>model</th>\n",
       "      <td>1.000000</td>\n",
       "      <td>0.064749</td>\n",
       "      <td>0.169099</td>\n",
       "      <td>0.021625</td>\n",
       "      <td>-0.056772</td>\n",
       "      <td>0.014208</td>\n",
       "      <td>-0.119198</td>\n",
       "      <td>-0.004872</td>\n",
       "      <td>-0.122617</td>\n",
       "    </tr>\n",
       "    <tr>\n",
       "      <th>year</th>\n",
       "      <td>0.064749</td>\n",
       "      <td>1.000000</td>\n",
       "      <td>-0.090350</td>\n",
       "      <td>0.078827</td>\n",
       "      <td>-0.130377</td>\n",
       "      <td>0.058071</td>\n",
       "      <td>-0.459342</td>\n",
       "      <td>-0.349147</td>\n",
       "      <td>0.007337</td>\n",
       "    </tr>\n",
       "    <tr>\n",
       "      <th>price</th>\n",
       "      <td>0.169099</td>\n",
       "      <td>-0.090350</td>\n",
       "      <td>1.000000</td>\n",
       "      <td>-0.022997</td>\n",
       "      <td>0.105879</td>\n",
       "      <td>0.003821</td>\n",
       "      <td>-0.026918</td>\n",
       "      <td>-0.164560</td>\n",
       "      <td>0.046433</td>\n",
       "    </tr>\n",
       "    <tr>\n",
       "      <th>transmission</th>\n",
       "      <td>0.021625</td>\n",
       "      <td>0.078827</td>\n",
       "      <td>-0.022997</td>\n",
       "      <td>1.000000</td>\n",
       "      <td>-0.021980</td>\n",
       "      <td>-0.011222</td>\n",
       "      <td>-0.037592</td>\n",
       "      <td>-0.056601</td>\n",
       "      <td>0.076025</td>\n",
       "    </tr>\n",
       "    <tr>\n",
       "      <th>mileage</th>\n",
       "      <td>-0.056772</td>\n",
       "      <td>-0.130377</td>\n",
       "      <td>0.105879</td>\n",
       "      <td>-0.021980</td>\n",
       "      <td>1.000000</td>\n",
       "      <td>-0.129122</td>\n",
       "      <td>0.053940</td>\n",
       "      <td>-0.028851</td>\n",
       "      <td>0.143557</td>\n",
       "    </tr>\n",
       "    <tr>\n",
       "      <th>fuelType</th>\n",
       "      <td>0.014208</td>\n",
       "      <td>0.058071</td>\n",
       "      <td>0.003821</td>\n",
       "      <td>-0.011222</td>\n",
       "      <td>-0.129122</td>\n",
       "      <td>1.000000</td>\n",
       "      <td>0.022011</td>\n",
       "      <td>-0.130852</td>\n",
       "      <td>-0.696649</td>\n",
       "    </tr>\n",
       "    <tr>\n",
       "      <th>tax</th>\n",
       "      <td>-0.119198</td>\n",
       "      <td>-0.459342</td>\n",
       "      <td>-0.026918</td>\n",
       "      <td>-0.037592</td>\n",
       "      <td>0.053940</td>\n",
       "      <td>0.022011</td>\n",
       "      <td>1.000000</td>\n",
       "      <td>0.161327</td>\n",
       "      <td>0.020960</td>\n",
       "    </tr>\n",
       "    <tr>\n",
       "      <th>mpg</th>\n",
       "      <td>-0.004872</td>\n",
       "      <td>-0.349147</td>\n",
       "      <td>-0.164560</td>\n",
       "      <td>-0.056601</td>\n",
       "      <td>-0.028851</td>\n",
       "      <td>-0.130852</td>\n",
       "      <td>0.161327</td>\n",
       "      <td>1.000000</td>\n",
       "      <td>-0.316453</td>\n",
       "    </tr>\n",
       "    <tr>\n",
       "      <th>engineSize</th>\n",
       "      <td>-0.122617</td>\n",
       "      <td>0.007337</td>\n",
       "      <td>0.046433</td>\n",
       "      <td>0.076025</td>\n",
       "      <td>0.143557</td>\n",
       "      <td>-0.696649</td>\n",
       "      <td>0.020960</td>\n",
       "      <td>-0.316453</td>\n",
       "      <td>1.000000</td>\n",
       "    </tr>\n",
       "  </tbody>\n",
       "</table>\n",
       "</div>"
      ],
      "text/plain": [
       "0                model      year     price  transmission   mileage  fuelType  \\\n",
       "0                                                                              \n",
       "model         1.000000  0.064749  0.169099      0.021625 -0.056772  0.014208   \n",
       "year          0.064749  1.000000 -0.090350      0.078827 -0.130377  0.058071   \n",
       "price         0.169099 -0.090350  1.000000     -0.022997  0.105879  0.003821   \n",
       "transmission  0.021625  0.078827 -0.022997      1.000000 -0.021980 -0.011222   \n",
       "mileage      -0.056772 -0.130377  0.105879     -0.021980  1.000000 -0.129122   \n",
       "fuelType      0.014208  0.058071  0.003821     -0.011222 -0.129122  1.000000   \n",
       "tax          -0.119198 -0.459342 -0.026918     -0.037592  0.053940  0.022011   \n",
       "mpg          -0.004872 -0.349147 -0.164560     -0.056601 -0.028851 -0.130852   \n",
       "engineSize   -0.122617  0.007337  0.046433      0.076025  0.143557 -0.696649   \n",
       "\n",
       "0                  tax       mpg  engineSize  \n",
       "0                                             \n",
       "model        -0.119198 -0.004872   -0.122617  \n",
       "year         -0.459342 -0.349147    0.007337  \n",
       "price        -0.026918 -0.164560    0.046433  \n",
       "transmission -0.037592 -0.056601    0.076025  \n",
       "mileage       0.053940 -0.028851    0.143557  \n",
       "fuelType      0.022011 -0.130852   -0.696649  \n",
       "tax           1.000000  0.161327    0.020960  \n",
       "mpg           0.161327  1.000000   -0.316453  \n",
       "engineSize    0.020960 -0.316453    1.000000  "
      ]
     },
     "execution_count": 11,
     "metadata": {},
     "output_type": "execute_result"
    }
   ],
   "source": [
    "corr"
   ]
  },
  {
   "cell_type": "markdown",
   "id": "b1fb5945-3195-4370-885f-341d0bed51c2",
   "metadata": {
    "tags": []
   },
   "source": [
    "## Modèle de régression\n",
    "\n",
    "Mettre en place un réseau de neurone qui prédit l'estimation du prix de la voiture. On pourra utiliser la fonction Loss de type moindre carré et également une métrique $R^2$ pour obtenir le score du modèle.\n",
    "\n",
    "Mettre en place une stratégie pour garantir de ne pas faire de surapprentissage.\n",
    "\n",
    "Analyser vos résultats, tracer la courbe de points de coordonné (Prix de l'annonce, Prix prédit) et possiblement par sous catégories."
   ]
  },
  {
   "cell_type": "code",
   "execution_count": 42,
   "id": "444ee782-f3dd-4bb3-ad65-6096c09e4ae2",
   "metadata": {
    "tags": []
   },
   "outputs": [],
   "source": [
    "import pandas as pd\n",
    "from sklearn.model_selection import train_test_split\n",
    "from sklearn.preprocessing import StandardScaler\n",
    "from sklearn.impute import SimpleImputer\n",
    "from keras.models import Sequential\n",
    "from keras.layers import Dense\n",
    "from keras.callbacks import EarlyStopping\n",
    "\n",
    "# Splitting features and target variables\n",
    "y = df.iloc[:, 2]  # Use the third column as the target variable\n",
    "X = df.iloc[:, 1:]  # Use columns from the second one onwards as features\n",
    "\n",
    "# Data preprocessing\n",
    "imputer = SimpleImputer(strategy='constant', fill_value=0)\n",
    "X = imputer.fit_transform(X)\n",
    "\n",
    "# Feature scaling\n",
    "scaler = StandardScaler()\n",
    "X = scaler.fit_transform(X)\n",
    "\n",
    "# Splitting into training and testing sets\n",
    "x_train, x_test, y_train, y_test = train_test_split(X, y, test_size=0.2, random_state=42)\n",
    "\n",
    "# Define the model\n",
    "model = Sequential()\n",
    "model.add(Dense(64, activation='relu', input_shape=(X.shape[1],)))\n",
    "model.add(Dense(1))  # Assuming your task is regression and you have only one output node\n",
    "\n",
    "# Compile the model\n",
    "model.compile(optimizer='adam', loss='mse')  # Assuming you're doing regression and using mean squared error as the loss function\n",
    "\n",
    "# Define early stopping callback\n",
    "early_stopping = EarlyStopping(monitor='val_loss', patience=10)\n",
    "\n",
    "# Train the model\n",
    "history = model.fit(x_train, y_train, validation_split=0.2, epochs=1000, batch_size=200, callbacks=[early_stopping], verbose=0)"
   ]
  },
  {
   "cell_type": "code",
   "execution_count": 43,
   "id": "200cdf77-231c-47f7-b4c6-b1ff05e538bd",
   "metadata": {
    "tags": []
   },
   "outputs": [
    {
     "name": "stdout",
     "output_type": "stream",
     "text": [
      "Score R^2: 0.9999935343913787\n"
     ]
    }
   ],
   "source": [
    "from sklearn.metrics import r2_score\n",
    "\n",
    "y_pred = model.predict(x_test)\n",
    "score_r2 = r2_score(y_test, y_pred)\n",
    "print(\"Score R^2:\", score_r2)"
   ]
  },
  {
   "cell_type": "code",
   "execution_count": 44,
   "id": "3718e9fb-a869-4033-9b51-94033c2e80d9",
   "metadata": {
    "tags": []
   },
   "outputs": [
    {
     "data": {
      "image/png": "[encoded data removed]",
      "text/plain": [
       "<Figure size 720x432 with 1 Axes>"
      ]
     },
     "metadata": {
      "needs_background": "light"
     },
     "output_type": "display_data"
    }
   ],
   "source": [
    "import matplotlib.pyplot as plt\n",
    "import seaborn as sns\n",
    "\n",
    "# Tracer les prix réels vs prédits\n",
    "plt.figure(figsize=(10, 6))\n",
    "sns.scatterplot(x=y_test, y=y_pred[:, 0])  # Ajuster les indices selon la forme de y_pred\n",
    "plt.xlabel('Prix réel')   #Actual Price\n",
    "plt.ylabel('Prix prédit')  #Predicted Price\n",
    "plt.title('Prix réel vs Prix prédit')\n",
    "plt.grid(True) \n",
    "plt.show()"
   ]
  },
  {
   "cell_type": "code",
   "execution_count": 60,
   "id": "d2d78828-a318-4613-ab7b-3637347d3b03",
   "metadata": {
    "tags": []
   },
   "outputs": [
    {
     "name": "stdout",
     "output_type": "stream",
     "text": [
      "95/95 [==============================] - 0s 2ms/step - loss: 9.2182\n"
     ]
    },
    {
     "data": {
      "text/plain": [
       "9.218192100524902"
      ]
     },
     "execution_count": 60,
     "metadata": {},
     "output_type": "execute_result"
    }
   ],
   "source": [
    "scores = model.evaluate(x_test,y_test);\n",
    "accuracy = scores\n",
    "accuracy"
   ]
  },
  {
   "cell_type": "code",
   "execution_count": null,
   "id": "39b1a269-3221-4e87-8d9e-6dc7ce5b41b0",
   "metadata": {},
   "outputs": [],
   "source": []
  }
 ],
 "metadata": {
  "kernelspec": {
   "display_name": "Python 3 (ipykernel)",
   "language": "python",
   "name": "python3"
  },
  "language_info": {
   "codemirror_mode": {
    "name": "ipython",
    "version": 3
   },
   "file_extension": ".py",
   "mimetype": "text/x-python",
   "name": "python",
   "nbconvert_exporter": "python",
   "pygments_lexer": "ipython3",
   "version": "3.10.8"
  }
 },
 "nbformat": 4,
 "nbformat_minor": 5
}
